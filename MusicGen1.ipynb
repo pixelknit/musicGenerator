{
  "nbformat": 4,
  "nbformat_minor": 0,
  "metadata": {
    "colab": {
      "provenance": [],
      "collapsed_sections": []
    },
    "kernelspec": {
      "name": "python3",
      "display_name": "Python 3"
    },
    "language_info": {
      "name": "python"
    },
    "accelerator": "GPU",
    "gpuClass": "standard"
  },
  "cells": [
    {
      "cell_type": "code",
      "execution_count": 2,
      "metadata": {
        "colab": {
          "base_uri": "https://localhost:8080/"
        },
        "id": "DcSuumwKy27t",
        "outputId": "9e512e86-3b1a-4a57-d294-d353ac1943fd"
      },
      "outputs": [
        {
          "output_type": "stream",
          "name": "stdout",
          "text": [
            "Looking in indexes: https://pypi.org/simple, https://us-python.pkg.dev/colab-wheels/public/simple/\n",
            "Collecting mido\n",
            "  Downloading mido-1.2.10-py2.py3-none-any.whl (51 kB)\n",
            "\u001b[K     |████████████████████████████████| 51 kB 4.6 MB/s \n",
            "\u001b[?25hInstalling collected packages: mido\n",
            "Successfully installed mido-1.2.10\n"
          ]
        }
      ],
      "source": [
        "!pip install mido"
      ]
    },
    {
      "cell_type": "code",
      "source": [
        "import mido\n",
        "from mido import MidiFile, MidiTrack, Message\n",
        "from keras.layers import LSTM, Dense, Activation, Dropout, Flatten\n",
        "from keras.preprocessing import sequence\n",
        "from keras.models import Sequential\n",
        "from tensorflow.keras.optimizers import Adam\n",
        "from sklearn.preprocessing import MinMaxScaler, StandardScaler\n",
        "import numpy as np\n"
      ],
      "metadata": {
        "id": "kYj8Ep4Ey6oP"
      },
      "execution_count": 3,
      "outputs": []
    },
    {
      "cell_type": "code",
      "source": [
        "!unzip /content/drive/MyDrive/MACHINE_LEARNING/datasets/chillhopmidi/chillhopdata.zip -d /content/drive/MyDrive/MACHINE_LEARNING/datasets/chillhopmidi/chillhopdata"
      ],
      "metadata": {
        "colab": {
          "base_uri": "https://localhost:8080/"
        },
        "id": "CCfxhyyVzcRk",
        "outputId": "0e0dda79-b29a-43e5-994a-5698606f3820"
      },
      "execution_count": 4,
      "outputs": [
        {
          "output_type": "stream",
          "name": "stdout",
          "text": [
            "Archive:  /content/drive/MyDrive/MACHINE_LEARNING/datasets/chillhopmidi/chillhopdata.zip\n",
            "  inflating: /content/drive/MyDrive/MACHINE_LEARNING/datasets/chillhopmidi/chillhopdata/1.mid  \n",
            "  inflating: /content/drive/MyDrive/MACHINE_LEARNING/datasets/chillhopmidi/chillhopdata/10.mid  \n",
            "  inflating: /content/drive/MyDrive/MACHINE_LEARNING/datasets/chillhopmidi/chillhopdata/11.mid  \n",
            "  inflating: /content/drive/MyDrive/MACHINE_LEARNING/datasets/chillhopmidi/chillhopdata/12.mid  \n",
            "  inflating: /content/drive/MyDrive/MACHINE_LEARNING/datasets/chillhopmidi/chillhopdata/13.mid  \n",
            "  inflating: /content/drive/MyDrive/MACHINE_LEARNING/datasets/chillhopmidi/chillhopdata/14.mid  \n",
            "  inflating: /content/drive/MyDrive/MACHINE_LEARNING/datasets/chillhopmidi/chillhopdata/15.mid  \n",
            "  inflating: /content/drive/MyDrive/MACHINE_LEARNING/datasets/chillhopmidi/chillhopdata/16.mid  \n",
            "  inflating: /content/drive/MyDrive/MACHINE_LEARNING/datasets/chillhopmidi/chillhopdata/17.mid  \n",
            "  inflating: /content/drive/MyDrive/MACHINE_LEARNING/datasets/chillhopmidi/chillhopdata/18.mid  \n",
            "  inflating: /content/drive/MyDrive/MACHINE_LEARNING/datasets/chillhopmidi/chillhopdata/19.mid  \n",
            "  inflating: /content/drive/MyDrive/MACHINE_LEARNING/datasets/chillhopmidi/chillhopdata/2.mid  \n",
            "  inflating: /content/drive/MyDrive/MACHINE_LEARNING/datasets/chillhopmidi/chillhopdata/20.mid  \n",
            "  inflating: /content/drive/MyDrive/MACHINE_LEARNING/datasets/chillhopmidi/chillhopdata/3.mid  \n",
            "  inflating: /content/drive/MyDrive/MACHINE_LEARNING/datasets/chillhopmidi/chillhopdata/4.mid  \n",
            "  inflating: /content/drive/MyDrive/MACHINE_LEARNING/datasets/chillhopmidi/chillhopdata/5.mid  \n",
            "  inflating: /content/drive/MyDrive/MACHINE_LEARNING/datasets/chillhopmidi/chillhopdata/6.mid  \n",
            "  inflating: /content/drive/MyDrive/MACHINE_LEARNING/datasets/chillhopmidi/chillhopdata/7.mid  \n",
            "  inflating: /content/drive/MyDrive/MACHINE_LEARNING/datasets/chillhopmidi/chillhopdata/8.mid  \n",
            "  inflating: /content/drive/MyDrive/MACHINE_LEARNING/datasets/chillhopmidi/chillhopdata/9.mid  \n",
            "  inflating: /content/drive/MyDrive/MACHINE_LEARNING/datasets/chillhopmidi/chillhopdata/Cymatics - Eternity MIDI 1 - C Maj.mid  \n",
            "  inflating: /content/drive/MyDrive/MACHINE_LEARNING/datasets/chillhopmidi/chillhopdata/Cymatics - Eternity MIDI 10 - F Min.mid  \n",
            "  inflating: /content/drive/MyDrive/MACHINE_LEARNING/datasets/chillhopmidi/chillhopdata/Cymatics - Eternity MIDI 11 - A Maj.mid  \n",
            "  inflating: /content/drive/MyDrive/MACHINE_LEARNING/datasets/chillhopmidi/chillhopdata/Cymatics - Eternity MIDI 12 - A Min.mid  \n",
            "  inflating: /content/drive/MyDrive/MACHINE_LEARNING/datasets/chillhopmidi/chillhopdata/Cymatics - Eternity MIDI 13 - A Min.mid  \n",
            "  inflating: /content/drive/MyDrive/MACHINE_LEARNING/datasets/chillhopmidi/chillhopdata/Cymatics - Eternity MIDI 14 - A Min.mid  \n",
            "  inflating: /content/drive/MyDrive/MACHINE_LEARNING/datasets/chillhopmidi/chillhopdata/Cymatics - Eternity MIDI 15 - A Maj.mid  \n",
            "  inflating: /content/drive/MyDrive/MACHINE_LEARNING/datasets/chillhopmidi/chillhopdata/Cymatics - Eternity MIDI 16 - A Maj.mid  \n",
            "  inflating: /content/drive/MyDrive/MACHINE_LEARNING/datasets/chillhopmidi/chillhopdata/Cymatics - Eternity MIDI 17 - A Maj.mid  \n",
            "  inflating: /content/drive/MyDrive/MACHINE_LEARNING/datasets/chillhopmidi/chillhopdata/Cymatics - Eternity MIDI 18 - A Maj.mid  \n",
            "  inflating: /content/drive/MyDrive/MACHINE_LEARNING/datasets/chillhopmidi/chillhopdata/Cymatics - Eternity MIDI 19 - A Min.mid  \n",
            "  inflating: /content/drive/MyDrive/MACHINE_LEARNING/datasets/chillhopmidi/chillhopdata/Cymatics - Eternity MIDI 2 - C Min.mid  \n",
            "  inflating: /content/drive/MyDrive/MACHINE_LEARNING/datasets/chillhopmidi/chillhopdata/Cymatics - Eternity MIDI 20 - A Min.mid  \n",
            "  inflating: /content/drive/MyDrive/MACHINE_LEARNING/datasets/chillhopmidi/chillhopdata/Cymatics - Eternity MIDI 21 - A Min.mid  \n",
            "  inflating: /content/drive/MyDrive/MACHINE_LEARNING/datasets/chillhopmidi/chillhopdata/Cymatics - Eternity MIDI 22 - B Min.mid  \n",
            "  inflating: /content/drive/MyDrive/MACHINE_LEARNING/datasets/chillhopmidi/chillhopdata/Cymatics - Eternity MIDI 3 - D Maj.mid  \n",
            "  inflating: /content/drive/MyDrive/MACHINE_LEARNING/datasets/chillhopmidi/chillhopdata/Cymatics - Eternity MIDI 4 - D Maj.mid  \n",
            "  inflating: /content/drive/MyDrive/MACHINE_LEARNING/datasets/chillhopmidi/chillhopdata/Cymatics - Eternity MIDI 5 - D Min.mid  \n",
            "  inflating: /content/drive/MyDrive/MACHINE_LEARNING/datasets/chillhopmidi/chillhopdata/Cymatics - Eternity MIDI 6 - D Min.mid  \n",
            "  inflating: /content/drive/MyDrive/MACHINE_LEARNING/datasets/chillhopmidi/chillhopdata/Cymatics - Eternity MIDI 7 - E Min.mid  \n",
            "  inflating: /content/drive/MyDrive/MACHINE_LEARNING/datasets/chillhopmidi/chillhopdata/Cymatics - Eternity MIDI 8 - F Maj.mid  \n",
            "  inflating: /content/drive/MyDrive/MACHINE_LEARNING/datasets/chillhopmidi/chillhopdata/Cymatics - Eternity MIDI 9 - F Min.mid  \n",
            "  inflating: /content/drive/MyDrive/MACHINE_LEARNING/datasets/chillhopmidi/chillhopdata/Cymatics - Lofi MIDI 1 - C Maj.mid  \n",
            "  inflating: /content/drive/MyDrive/MACHINE_LEARNING/datasets/chillhopmidi/chillhopdata/Cymatics - Lofi MIDI 10 - D Maj.mid  \n",
            "  inflating: /content/drive/MyDrive/MACHINE_LEARNING/datasets/chillhopmidi/chillhopdata/Cymatics - Lofi MIDI 11 - E Maj.mid  \n",
            "  inflating: /content/drive/MyDrive/MACHINE_LEARNING/datasets/chillhopmidi/chillhopdata/Cymatics - Lofi MIDI 12 - E Min.mid  \n",
            "  inflating: /content/drive/MyDrive/MACHINE_LEARNING/datasets/chillhopmidi/chillhopdata/Cymatics - Lofi MIDI 13 - E Min.mid  \n",
            "  inflating: /content/drive/MyDrive/MACHINE_LEARNING/datasets/chillhopmidi/chillhopdata/Cymatics - Lofi MIDI 14 - F Min.mid  \n",
            "  inflating: /content/drive/MyDrive/MACHINE_LEARNING/datasets/chillhopmidi/chillhopdata/Cymatics - Lofi MIDI 15 - F Maj.mid  \n",
            "  inflating: /content/drive/MyDrive/MACHINE_LEARNING/datasets/chillhopmidi/chillhopdata/Cymatics - Lofi MIDI 16 - F Maj.mid  \n",
            "  inflating: /content/drive/MyDrive/MACHINE_LEARNING/datasets/chillhopmidi/chillhopdata/Cymatics - Lofi MIDI 17 - G Maj.mid  \n",
            "  inflating: /content/drive/MyDrive/MACHINE_LEARNING/datasets/chillhopmidi/chillhopdata/Cymatics - Lofi MIDI 18 - G Maj.mid  \n",
            "  inflating: /content/drive/MyDrive/MACHINE_LEARNING/datasets/chillhopmidi/chillhopdata/Cymatics - Lofi MIDI 19 - G Maj.mid  \n",
            "  inflating: /content/drive/MyDrive/MACHINE_LEARNING/datasets/chillhopmidi/chillhopdata/Cymatics - Lofi MIDI 2 - C Maj.mid  \n",
            "  inflating: /content/drive/MyDrive/MACHINE_LEARNING/datasets/chillhopmidi/chillhopdata/Cymatics - Lofi MIDI 20 - G Min.mid  \n",
            "  inflating: /content/drive/MyDrive/MACHINE_LEARNING/datasets/chillhopmidi/chillhopdata/Cymatics - Lofi MIDI 21 - A Min.mid  \n",
            "  inflating: /content/drive/MyDrive/MACHINE_LEARNING/datasets/chillhopmidi/chillhopdata/Cymatics - Lofi MIDI 22 - B Min.mid  \n",
            "  inflating: /content/drive/MyDrive/MACHINE_LEARNING/datasets/chillhopmidi/chillhopdata/Cymatics - Lofi MIDI 3 - C Min.mid  \n",
            "  inflating: /content/drive/MyDrive/MACHINE_LEARNING/datasets/chillhopmidi/chillhopdata/Cymatics - Lofi MIDI 4 - D Maj.mid  \n",
            "  inflating: /content/drive/MyDrive/MACHINE_LEARNING/datasets/chillhopmidi/chillhopdata/Cymatics - Lofi MIDI 5 - D Maj.mid  \n",
            "  inflating: /content/drive/MyDrive/MACHINE_LEARNING/datasets/chillhopmidi/chillhopdata/Cymatics - Lofi MIDI 6 - D Min.mid  \n",
            "  inflating: /content/drive/MyDrive/MACHINE_LEARNING/datasets/chillhopmidi/chillhopdata/Cymatics - Lofi MIDI 7 - D Maj.mid  \n",
            "  inflating: /content/drive/MyDrive/MACHINE_LEARNING/datasets/chillhopmidi/chillhopdata/Cymatics - Lofi MIDI 8 - D Maj.mid  \n",
            "  inflating: /content/drive/MyDrive/MACHINE_LEARNING/datasets/chillhopmidi/chillhopdata/Cymatics - Lofi MIDI 9 - D Maj.mid  \n",
            "  inflating: /content/drive/MyDrive/MACHINE_LEARNING/datasets/chillhopmidi/chillhopdata/E-Piano Chords MIDI.mid  \n",
            "  inflating: /content/drive/MyDrive/MACHINE_LEARNING/datasets/chillhopmidi/chillhopdata/E-Piano MIDI (2).mid  \n",
            "  inflating: /content/drive/MyDrive/MACHINE_LEARNING/datasets/chillhopmidi/chillhopdata/E-Piano MIDI.mid  \n",
            "  inflating: /content/drive/MyDrive/MACHINE_LEARNING/datasets/chillhopmidi/chillhopdata/Lofi Piano MIDI.mid  \n",
            "  inflating: /content/drive/MyDrive/MACHINE_LEARNING/datasets/chillhopmidi/chillhopdata/Piano 1 MIDI.mid  \n",
            "  inflating: /content/drive/MyDrive/MACHINE_LEARNING/datasets/chillhopmidi/chillhopdata/Piano 2 MIDI.mid  \n",
            "  inflating: /content/drive/MyDrive/MACHINE_LEARNING/datasets/chillhopmidi/chillhopdata/Piano Chords MIDI (2).mid  \n",
            "  inflating: /content/drive/MyDrive/MACHINE_LEARNING/datasets/chillhopmidi/chillhopdata/Piano Chords MIDI (3).mid  \n",
            "  inflating: /content/drive/MyDrive/MACHINE_LEARNING/datasets/chillhopmidi/chillhopdata/Piano Chords MIDI.mid  \n",
            "  inflating: /content/drive/MyDrive/MACHINE_LEARNING/datasets/chillhopmidi/chillhopdata/Piano MIDI (2).mid  \n",
            "  inflating: /content/drive/MyDrive/MACHINE_LEARNING/datasets/chillhopmidi/chillhopdata/Piano MIDI (3).mid  \n",
            "  inflating: /content/drive/MyDrive/MACHINE_LEARNING/datasets/chillhopmidi/chillhopdata/Piano MIDI (4).mid  \n",
            "  inflating: /content/drive/MyDrive/MACHINE_LEARNING/datasets/chillhopmidi/chillhopdata/Piano MIDI (5).mid  \n",
            "  inflating: /content/drive/MyDrive/MACHINE_LEARNING/datasets/chillhopmidi/chillhopdata/Piano MIDI (6).mid  \n",
            "  inflating: /content/drive/MyDrive/MACHINE_LEARNING/datasets/chillhopmidi/chillhopdata/Piano MIDI (7).mid  \n",
            "  inflating: /content/drive/MyDrive/MACHINE_LEARNING/datasets/chillhopmidi/chillhopdata/Piano MIDI (8).mid  \n",
            "  inflating: /content/drive/MyDrive/MACHINE_LEARNING/datasets/chillhopmidi/chillhopdata/Piano MIDI 1.mid  \n",
            "  inflating: /content/drive/MyDrive/MACHINE_LEARNING/datasets/chillhopmidi/chillhopdata/Piano MIDI 2.mid  \n",
            "  inflating: /content/drive/MyDrive/MACHINE_LEARNING/datasets/chillhopmidi/chillhopdata/Piano MIDI.mid  \n",
            "  inflating: /content/drive/MyDrive/MACHINE_LEARNING/datasets/chillhopmidi/chillhopdata/Rhodes MIDI (2).mid  \n",
            "  inflating: /content/drive/MyDrive/MACHINE_LEARNING/datasets/chillhopmidi/chillhopdata/Rhodes MIDI (3).mid  \n",
            "  inflating: /content/drive/MyDrive/MACHINE_LEARNING/datasets/chillhopmidi/chillhopdata/Rhodes MIDI (4).mid  \n",
            "  inflating: /content/drive/MyDrive/MACHINE_LEARNING/datasets/chillhopmidi/chillhopdata/Rhodes MIDI (5).mid  \n",
            "  inflating: /content/drive/MyDrive/MACHINE_LEARNING/datasets/chillhopmidi/chillhopdata/Rhodes MIDI (6).mid  \n",
            "  inflating: /content/drive/MyDrive/MACHINE_LEARNING/datasets/chillhopmidi/chillhopdata/Rhodes MIDI (7).mid  \n",
            "  inflating: /content/drive/MyDrive/MACHINE_LEARNING/datasets/chillhopmidi/chillhopdata/Rhodes MIDI (8).mid  \n",
            "  inflating: /content/drive/MyDrive/MACHINE_LEARNING/datasets/chillhopmidi/chillhopdata/Rhodes MIDI (9).mid  \n",
            "  inflating: /content/drive/MyDrive/MACHINE_LEARNING/datasets/chillhopmidi/chillhopdata/Rhodes MIDI.mid  \n",
            "  inflating: /content/drive/MyDrive/MACHINE_LEARNING/datasets/chillhopmidi/chillhopdata/merge_from_ofoct.mid  \n"
          ]
        }
      ]
    },
    {
      "cell_type": "code",
      "source": [
        "import os\n",
        "\n",
        "notes = []\n",
        "for song in os.listdir(\"/content/drive/MyDrive/MACHINE_LEARNING/datasets/chillhopmidi/chillhopdata\"):\n",
        "  mid = MidiFile(\"/content/drive/MyDrive/MACHINE_LEARNING/datasets/chillhopmidi/chillhopdata/\" + song)\n",
        "  for msg in mid:\n",
        "    if not msg.is_meta and msg.channel == 0 and msg.type==\"note_on\":\n",
        "      data = msg.bytes()\n",
        "      notes.append(data[1])"
      ],
      "metadata": {
        "id": "TL9YD0Xc0Ank"
      },
      "execution_count": 9,
      "outputs": []
    },
    {
      "cell_type": "code",
      "source": [
        "scaler = MinMaxScaler()\n",
        "notes = list(scaler.fit_transform(np.array(notes).reshape(-1,1)))"
      ],
      "metadata": {
        "id": "x26GzknY0S3D"
      },
      "execution_count": 12,
      "outputs": []
    },
    {
      "cell_type": "code",
      "source": [
        "notes = [list(note) for note in notes]"
      ],
      "metadata": {
        "id": "5Rhbarqf1vlC"
      },
      "execution_count": 13,
      "outputs": []
    },
    {
      "cell_type": "code",
      "source": [
        "X = []\n",
        "y= []\n",
        "\n",
        "n_prev = 30\n",
        "\n",
        "for i in range(len(notes) - n_prev):\n",
        "  X.append(notes[i:i+n_prev])\n",
        "  y.append(notes[i+n_prev])\n",
        "\n",
        "X_test = X[-300:]\n",
        "X = X[:-300]\n",
        "y = y[:-300]"
      ],
      "metadata": {
        "id": "c-Bu5iMC2T2g"
      },
      "execution_count": 17,
      "outputs": []
    },
    {
      "cell_type": "code",
      "source": [
        "model = Sequential()\n",
        "model.add(LSTM(256, input_shape=(n_prev, 1), return_sequences=True))\n",
        "model.add(Dropout(0.6))\n",
        "\n",
        "model.add(LSTM(128, input_shape=(n_prev, 1), return_sequences=True))\n",
        "model.add(Dropout(0.6))\n",
        "\n",
        "model.add(LSTM(64, input_shape=(n_prev, 1), return_sequences=False))\n",
        "model.add(Dropout(0.6))\n",
        "\n",
        "model.add(Dense(1))\n",
        "\n",
        "model.add(Activation(\"linear\"))\n",
        "\n",
        "model.summary()\n",
        "\n",
        "optimizer = Adam(learning_rate=0.001)\n",
        "\n",
        "model.compile(loss=\"mse\", optimizer=optimizer)"
      ],
      "metadata": {
        "colab": {
          "base_uri": "https://localhost:8080/"
        },
        "id": "jHwkKnbd27Ek",
        "outputId": "59265b65-ea18-4863-ddc3-3d3574f13089"
      },
      "execution_count": 21,
      "outputs": [
        {
          "output_type": "stream",
          "name": "stdout",
          "text": [
            "Model: \"sequential\"\n",
            "_________________________________________________________________\n",
            " Layer (type)                Output Shape              Param #   \n",
            "=================================================================\n",
            " lstm_3 (LSTM)               (None, 30, 256)           264192    \n",
            "                                                                 \n",
            " dropout (Dropout)           (None, 30, 256)           0         \n",
            "                                                                 \n",
            " lstm_4 (LSTM)               (None, 30, 128)           197120    \n",
            "                                                                 \n",
            " dropout_1 (Dropout)         (None, 30, 128)           0         \n",
            "                                                                 \n",
            " lstm_5 (LSTM)               (None, 64)                49408     \n",
            "                                                                 \n",
            " dropout_2 (Dropout)         (None, 64)                0         \n",
            "                                                                 \n",
            " dense (Dense)               (None, 1)                 65        \n",
            "                                                                 \n",
            " activation (Activation)     (None, 1)                 0         \n",
            "                                                                 \n",
            "=================================================================\n",
            "Total params: 510,785\n",
            "Trainable params: 510,785\n",
            "Non-trainable params: 0\n",
            "_________________________________________________________________\n"
          ]
        }
      ]
    },
    {
      "cell_type": "code",
      "source": [
        "model.fit(np.array(X),np.array(y), batch_size=16, epochs=50)"
      ],
      "metadata": {
        "colab": {
          "base_uri": "https://localhost:8080/"
        },
        "id": "AAJtlOcr36PR",
        "outputId": "e319a4c0-0319-4a76-8739-0310decb8ce1"
      },
      "execution_count": 25,
      "outputs": [
        {
          "output_type": "stream",
          "name": "stdout",
          "text": [
            "Epoch 1/50\n",
            "195/195 [==============================] - 2s 10ms/step - loss: 0.0151\n",
            "Epoch 2/50\n",
            "195/195 [==============================] - 2s 9ms/step - loss: 0.0149\n",
            "Epoch 3/50\n",
            "195/195 [==============================] - 2s 9ms/step - loss: 0.0149\n",
            "Epoch 4/50\n",
            "195/195 [==============================] - 2s 10ms/step - loss: 0.0148\n",
            "Epoch 5/50\n",
            "195/195 [==============================] - 2s 10ms/step - loss: 0.0145\n",
            "Epoch 6/50\n",
            "195/195 [==============================] - 2s 9ms/step - loss: 0.0145\n",
            "Epoch 7/50\n",
            "195/195 [==============================] - 2s 9ms/step - loss: 0.0146\n",
            "Epoch 8/50\n",
            "195/195 [==============================] - 2s 9ms/step - loss: 0.0144\n",
            "Epoch 9/50\n",
            "195/195 [==============================] - 2s 9ms/step - loss: 0.0143\n",
            "Epoch 10/50\n",
            "195/195 [==============================] - 2s 9ms/step - loss: 0.0142\n",
            "Epoch 11/50\n",
            "195/195 [==============================] - 2s 10ms/step - loss: 0.0144\n",
            "Epoch 12/50\n",
            "195/195 [==============================] - 2s 9ms/step - loss: 0.0141\n",
            "Epoch 13/50\n",
            "195/195 [==============================] - 2s 10ms/step - loss: 0.0140\n",
            "Epoch 14/50\n",
            "195/195 [==============================] - 2s 10ms/step - loss: 0.0139\n",
            "Epoch 15/50\n",
            "195/195 [==============================] - 2s 10ms/step - loss: 0.0138\n",
            "Epoch 16/50\n",
            "195/195 [==============================] - 2s 10ms/step - loss: 0.0137\n",
            "Epoch 17/50\n",
            "195/195 [==============================] - 2s 9ms/step - loss: 0.0136\n",
            "Epoch 18/50\n",
            "195/195 [==============================] - 2s 9ms/step - loss: 0.0136\n",
            "Epoch 19/50\n",
            "195/195 [==============================] - 2s 9ms/step - loss: 0.0135\n",
            "Epoch 20/50\n",
            "195/195 [==============================] - 2s 10ms/step - loss: 0.0136\n",
            "Epoch 21/50\n",
            "195/195 [==============================] - 2s 10ms/step - loss: 0.0134\n",
            "Epoch 22/50\n",
            "195/195 [==============================] - 2s 9ms/step - loss: 0.0135\n",
            "Epoch 23/50\n",
            "195/195 [==============================] - 2s 9ms/step - loss: 0.0135\n",
            "Epoch 24/50\n",
            "195/195 [==============================] - 2s 9ms/step - loss: 0.0134\n",
            "Epoch 25/50\n",
            "195/195 [==============================] - 2s 9ms/step - loss: 0.0133\n",
            "Epoch 26/50\n",
            "195/195 [==============================] - 2s 10ms/step - loss: 0.0136\n",
            "Epoch 27/50\n",
            "195/195 [==============================] - 2s 9ms/step - loss: 0.0134\n",
            "Epoch 28/50\n",
            "195/195 [==============================] - 2s 10ms/step - loss: 0.0135\n",
            "Epoch 29/50\n",
            "195/195 [==============================] - 2s 9ms/step - loss: 0.0133\n",
            "Epoch 30/50\n",
            "195/195 [==============================] - 2s 10ms/step - loss: 0.0135\n",
            "Epoch 31/50\n",
            "195/195 [==============================] - 2s 10ms/step - loss: 0.0133\n",
            "Epoch 32/50\n",
            "195/195 [==============================] - 2s 10ms/step - loss: 0.0133\n",
            "Epoch 33/50\n",
            "195/195 [==============================] - 2s 10ms/step - loss: 0.0134\n",
            "Epoch 34/50\n",
            "195/195 [==============================] - 2s 10ms/step - loss: 0.0133\n",
            "Epoch 35/50\n",
            "195/195 [==============================] - 2s 9ms/step - loss: 0.0134\n",
            "Epoch 36/50\n",
            "195/195 [==============================] - 2s 9ms/step - loss: 0.0133\n",
            "Epoch 37/50\n",
            "195/195 [==============================] - 2s 10ms/step - loss: 0.0134\n",
            "Epoch 38/50\n",
            "195/195 [==============================] - 2s 10ms/step - loss: 0.0133\n",
            "Epoch 39/50\n",
            "195/195 [==============================] - 2s 9ms/step - loss: 0.0133\n",
            "Epoch 40/50\n",
            "195/195 [==============================] - 2s 9ms/step - loss: 0.0132\n",
            "Epoch 41/50\n",
            "195/195 [==============================] - 2s 9ms/step - loss: 0.0134\n",
            "Epoch 42/50\n",
            "195/195 [==============================] - 2s 9ms/step - loss: 0.0132\n",
            "Epoch 43/50\n",
            "195/195 [==============================] - 2s 10ms/step - loss: 0.0134\n",
            "Epoch 44/50\n",
            "195/195 [==============================] - 2s 10ms/step - loss: 0.0132\n",
            "Epoch 45/50\n",
            "195/195 [==============================] - 2s 9ms/step - loss: 0.0133\n",
            "Epoch 46/50\n",
            "195/195 [==============================] - 2s 10ms/step - loss: 0.0132\n",
            "Epoch 47/50\n",
            "195/195 [==============================] - 2s 10ms/step - loss: 0.0132\n",
            "Epoch 48/50\n",
            "195/195 [==============================] - 2s 9ms/step - loss: 0.0133\n",
            "Epoch 49/50\n",
            "195/195 [==============================] - 2s 9ms/step - loss: 0.0130\n",
            "Epoch 50/50\n",
            "195/195 [==============================] - 2s 9ms/step - loss: 0.0132\n"
          ]
        },
        {
          "output_type": "execute_result",
          "data": {
            "text/plain": [
              "<keras.callbacks.History at 0x7f72c57bcb90>"
            ]
          },
          "metadata": {},
          "execution_count": 25
        }
      ]
    },
    {
      "cell_type": "code",
      "source": [
        "prediction = model.predict(np.array(X_test))\n",
        "prediction = np.squeeze(prediction)\n",
        "prediction = np.squeeze(scaler.inverse_transform(prediction.reshape(-1,1)))\n",
        "prediction = [int(i) for i in prediction]\n",
        "\n",
        "mid = MidiFile()\n",
        "track = MidiTrack()\n",
        "t = 0\n",
        "for note in prediction:\n",
        "    # 147 means note_on\n",
        "    # 67 is velosity\n",
        "    note = np.asarray([147, note, 67])\n",
        "    bytes = note.astype(int)\n",
        "    msg = Message.from_bytes(bytes[0:3])\n",
        "    t += 1\n",
        "    msg.time = t\n",
        "    track.append(msg)\n",
        "mid.tracks.append(track)\n",
        "mid.save('/content/drive/MyDrive/MACHINE_LEARNING/datasets/chillhopmidi/LSTM_music.mid')"
      ],
      "metadata": {
        "id": "6Giqwh2M45Wx"
      },
      "execution_count": 26,
      "outputs": []
    },
    {
      "cell_type": "code",
      "source": [],
      "metadata": {
        "id": "rdfJayNm5vWk"
      },
      "execution_count": null,
      "outputs": []
    }
  ]
}